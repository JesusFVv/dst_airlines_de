{
 "cells": [
  {
   "cell_type": "code",
   "execution_count": null,
   "id": "e625d6f9-ac1a-4609-b4bd-f5a3a622bcf4",
   "metadata": {},
   "outputs": [],
   "source": [
    "import pandas as pd\n",
    "import psycopg2\n",
    "from sqlalchemy import create_engine\n",
    "\n",
    "# Informations de connexion à la base de données\n",
    "host = 'postgres_dst' \n",
    "port = '5432'\n",
    "database = 'dst_airlines_db'\n",
    "user = 'dst_reader'\n",
    "password = 'pass_reader'\n",
    "\n",
    "# Connexion à la base de données\n",
    "try:\n",
    "    engine = create_engine(f'postgresql+psycopg2://{user}:{password}@{host}:{port}/{database}')\n",
    "    # Charger les données de la table dans un DataFrame pandas\n",
    "    query = 'SELECT * FROM l2.operations_customer_flight_info'  # Requête SQL explicite avec schéma et table\n",
    "    df = pd.read_sql_query(query, con=engine)\n",
    "    print(\"Connexion réussie et données chargées dans le DataFrame !\")\n",
    "except Exception as e:\n",
    "    print(\"Erreur lors de la connexion ou du chargement des données :\", e)\n",
    "\n",
    "# Afficher les premières lignes du DataFrame pour vérifier\n",
    "df.head()"
   ]
  }
 ],
 "metadata": {
  "kernelspec": {
   "display_name": "Python 3 (ipykernel)",
   "language": "python",
   "name": "python3"
  },
  "language_info": {
   "codemirror_mode": {
    "name": "ipython",
    "version": 3
   },
   "file_extension": ".py",
   "mimetype": "text/x-python",
   "name": "python",
   "nbconvert_exporter": "python",
   "pygments_lexer": "ipython3",
   "version": "3.11.6"
  }
 },
 "nbformat": 4,
 "nbformat_minor": 5
}
